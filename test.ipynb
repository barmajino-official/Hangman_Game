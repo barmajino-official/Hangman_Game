{
 "cells": [
  {
   "cell_type": "code",
   "execution_count": 15,
   "metadata": {},
   "outputs": [],
   "source": [
    "def printhello():\n",
    "    print(\"hello\")\n",
    "    \n",
    "def printDynamic(message):\n",
    "    print(message)\n",
    "    \n",
    "\n",
    "\n",
    "def SelectToRun(items):\n",
    "    print(\"* Select :\")\n",
    "    for item in items:\n",
    "        print(f\"{items.index(item)} - {item['Title']}\")\n",
    "    index = int(input(\" Select : \\t\"))\n",
    "    if items[index][\"arg\"]: items[index][\"def\"](**items[index][\"arg\"])\n",
    "    else: items[index][\"def\"]()\n"
   ]
  },
  {
   "cell_type": "code",
   "execution_count": 16,
   "metadata": {},
   "outputs": [
    {
     "name": "stdout",
     "output_type": "stream",
     "text": [
      "* Select :\n",
      "0 - print Hello\n",
      "1 - print dynamic\n",
      "hello\n"
     ]
    }
   ],
   "source": [
    "data = [\n",
    "    {\n",
    "        \"Title\": \"print Hello\",\n",
    "        \"def\": printhello,\n",
    "        \"arg\": None\n",
    "    },\n",
    "    {\n",
    "        \"Title\": \"print dynamic\",\n",
    "        \"def\": printDynamic,\n",
    "        \"arg\": {\"message\": \"its done!\"} # corrected argument declaration\n",
    "    }\n",
    "]\n",
    "SelectToRun(data)"
   ]
  },
  {
   "cell_type": "code",
   "execution_count": null,
   "metadata": {},
   "outputs": [],
   "source": []
  }
 ],
 "metadata": {
  "kernelspec": {
   "display_name": "Python 3",
   "language": "python",
   "name": "python3"
  },
  "language_info": {
   "codemirror_mode": {
    "name": "ipython",
    "version": 3
   },
   "file_extension": ".py",
   "mimetype": "text/x-python",
   "name": "python",
   "nbconvert_exporter": "python",
   "pygments_lexer": "ipython3",
   "version": "3.11.1"
  },
  "orig_nbformat": 4
 },
 "nbformat": 4,
 "nbformat_minor": 2
}
